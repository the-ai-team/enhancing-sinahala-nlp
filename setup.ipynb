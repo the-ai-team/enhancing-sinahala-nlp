{
 "cells": [
  {
   "cell_type": "code",
   "execution_count": null,
   "id": "initial_id",
   "metadata": {
    "ExecuteTime": {
     "end_time": "2024-07-29T09:40:51.544551Z",
     "start_time": "2024-07-29T09:40:51.537784Z"
    },
    "collapsed": true
   },
   "outputs": [],
   "source": [
    "import os\n",
    "\n",
    "\n",
    "def create_folder_and_files(folder_name):\n",
    "    dataset_folder = f\"datasets/{folder_name}\"\n",
    "    outputs_folder = f\"outputs/{folder_name}\"\n",
    "    translated_dataset_folder = \"translated_datasets\"\n",
    "\n",
    "    # Create the folders\n",
    "    os.makedirs(dataset_folder, exist_ok=True)\n",
    "    os.makedirs(outputs_folder, exist_ok=True)\n",
    "    os.makedirs(translated_dataset_folder, exist_ok=True)\n",
    "\n",
    "    # Create the output folder pointer files\n",
    "    file_names = [\"start-pointer.txt\", \"next-file-index.txt\"]\n",
    "    for file_name in file_names:\n",
    "        with open(f\"{outputs_folder}/{file_name}\", \"w\") as f:\n",
    "            f.write(\"0\")\n",
    "\n",
    "\n",
    "folder_name = \"cot-fsopt\"\n",
    "create_folder_and_files(folder_name)"
   ]
  },
  {
   "cell_type": "markdown",
   "id": "cbeb9a7ee148da43",
   "metadata": {},
   "source": [
    "Above script will create the following files and folders which needed to be used in translation process.\n",
    "\n",
    "- datasets\n",
    "    - cot-fsopt\n",
    "- outputs\n",
    "    - cot-fsopt\n",
    "        - next-file-index.txt\n",
    "        - start-pointer.txt\n",
    "- translated_datasets\n"
   ]
  },
  {
   "cell_type": "code",
   "execution_count": null,
   "id": "f08b3c67cead21c7",
   "metadata": {},
   "outputs": [],
   "source": [
    "from huggingface_hub import HfApi\n",
    "\n",
    "repo_id = \"0xAIT/flan-subset\"\n",
    "# repo_id = \"Open-Orca/FLAN\"\n",
    "\n",
    "subfolder_to_download = \"flan_fsopt_data\"\n",
    "\n",
    "local_base_path = \"datasets\"\n",
    "# local_base_path = \"datasets-downloads-orca\"\n",
    "\n",
    "# number of files to download (from the beginning of the list)\n",
    "# if None, all files will be downloaded\n",
    "number_of_files_to_download = None\n",
    "\n",
    "api = HfApi()\n",
    "\n",
    "def get_subfolder_files(repo_id, subfolder):\n",
    "    repo_files = api.list_repo_files(repo_id, repo_type=\"dataset\")\n",
    "    return [file for file in repo_files if file.startswith(f\"{subfolder}/\")]\n",
    "\n",
    "subfolder_files = get_subfolder_files(repo_id, subfolder_to_download)\n",
    "len(subfolder_files)"
   ]
  },
  {
   "cell_type": "code",
   "execution_count": null,
   "id": "c37f05d3",
   "metadata": {},
   "outputs": [],
   "source": [
    "import re\n",
    "\n",
    "_file_pattern_re = re.compile(r\"part\\.(\\d+)\\.parquet\")\n",
    "subfolder_files.sort(key=lambda x: int(_file_pattern_re.search(x).group(1)))\n",
    "subfolder_files[:number_of_files_to_download]"
   ]
  },
  {
   "cell_type": "code",
   "execution_count": null,
   "id": "f21f067e",
   "metadata": {},
   "outputs": [],
   "source": [
    "def download_file(api, repo_id, file, local_base_path):\n",
    "    api.hf_hub_download(repo_id=repo_id, repo_type=\"dataset\", \n",
    "                                         filename=file, local_dir=local_base_path)\n",
    "\n",
    "for file in subfolder_files[:number_of_files_to_download]:\n",
    "    download_file(api, repo_id, file, local_base_path)"
   ]
  }
 ],
 "metadata": {
  "kernelspec": {
   "display_name": "Python 3",
   "language": "python",
   "name": "python3"
  },
  "language_info": {
   "codemirror_mode": {
    "name": "ipython",
    "version": 3
   },
   "file_extension": ".py",
   "mimetype": "text/x-python",
   "name": "python",
   "nbconvert_exporter": "python",
   "pygments_lexer": "ipython3",
   "version": "3.11.2"
  }
 },
 "nbformat": 4,
 "nbformat_minor": 5
}
