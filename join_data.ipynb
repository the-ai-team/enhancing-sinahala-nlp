{
 "cells": [
  {
   "cell_type": "markdown",
   "id": "8ba9742a22fd1270",
   "metadata": {},
   "source": [
    "# Block 1 & 2 (Merge Output CSVs) "
   ]
  },
  {
   "cell_type": "code",
   "execution_count": 1,
   "id": "initial_id",
   "metadata": {
    "ExecuteTime": {
     "end_time": "2024-07-29T09:26:38.634731Z",
     "start_time": "2024-07-29T09:26:38.614258Z"
    },
    "collapsed": true
   },
   "outputs": [],
   "source": [
    "import re\n",
    "import pandas as pd\n",
    "import os\n",
    "\n",
    "base_file_name = 'flan-zsopt'  # Base file name to match\n",
    "folder_path = f'outputs/{base_file_name}'  # Folder containing the CSV files\n",
    "\n",
    "\n",
    "def collect_csvs():\n",
    "    pattern = re.compile(rf\"^(\\d+)-{re.escape(base_file_name)}\\.csv$\")\n",
    "    csv_files = [file for file in os.listdir(folder_path) if pattern.match(file)]\n",
    "    csv_files.sort(key=lambda x: int(re.findall(r'^\\d+', x)[0]))\n",
    "    return csv_files\n",
    "\n",
    "\n",
    "csv_files = collect_csvs()\n",
    "\n",
    "\n",
    "def combine_csv_files():\n",
    "    df = pd.concat([pd.read_csv(os.path.join(folder_path, file), na_filter=False) for file in csv_files], ignore_index=True)\n",
    "    return df"
   ]
  },
  {
   "cell_type": "code",
   "execution_count": 2,
   "id": "e6f53bf4c25125ef",
   "metadata": {
    "ExecuteTime": {
     "end_time": "2024-07-29T09:27:02.450529Z",
     "start_time": "2024-07-29T09:26:40.581592Z"
    }
   },
   "outputs": [],
   "source": [
    "merged_df = combine_csv_files()\n",
    "merged_df = merged_df.sort_values('Id').drop_duplicates(subset=['Id']).reset_index(drop=True)"
   ]
  },
  {
   "cell_type": "code",
   "execution_count": 3,
   "id": "b0e9297b",
   "metadata": {},
   "outputs": [
    {
     "data": {
      "text/html": [
       "<div>\n",
       "<style scoped>\n",
       "    .dataframe tbody tr th:only-of-type {\n",
       "        vertical-align: middle;\n",
       "    }\n",
       "\n",
       "    .dataframe tbody tr th {\n",
       "        vertical-align: top;\n",
       "    }\n",
       "\n",
       "    .dataframe thead th {\n",
       "        text-align: right;\n",
       "    }\n",
       "</style>\n",
       "<table border=\"1\" class=\"dataframe\">\n",
       "  <thead>\n",
       "    <tr style=\"text-align: right;\">\n",
       "      <th></th>\n",
       "      <th>Id</th>\n",
       "      <th>Original Input</th>\n",
       "      <th>Translated Input</th>\n",
       "      <th>Original Target</th>\n",
       "      <th>Translated Target</th>\n",
       "    </tr>\n",
       "  </thead>\n",
       "  <tbody>\n",
       "    <tr>\n",
       "      <th>0</th>\n",
       "      <td>0</td>\n",
       "      <td>Briefly summarize this sentence: montenegro 's...</td>\n",
       "      <td>මෙම වාක්‍යය කෙටියෙන් සාරාංශ කරන්න: සඳුදා ප්‍රක...</td>\n",
       "      <td>montenegro 's coalition wins election</td>\n",
       "      <td>මොන්ටිනිග්‍රෝ සන්ධානය මැතිවරණයෙන් ජය ගනී</td>\n",
       "    </tr>\n",
       "    <tr>\n",
       "      <th>1</th>\n",
       "      <td>1</td>\n",
       "      <td>Why is technology a good thing?\\nIs technology...</td>\n",
       "      <td>තාක්ෂණය හොඳ දෙයක් වන්නේ ඇයි?\\nතාක්ෂණය හොඳ දෙයක...</td>\n",
       "      <td>1).</td>\n",
       "      <td>1)</td>\n",
       "    </tr>\n",
       "    <tr>\n",
       "      <th>2</th>\n",
       "      <td>2</td>\n",
       "      <td>Had dinner here last night and overall it was ...</td>\n",
       "      <td>ඊයේ රාත්‍රියේ මෙහි රාත්‍රී ආහාරය ගත් අතර සමස්ත...</td>\n",
       "      <td>negative</td>\n",
       "      <td>සෘණ</td>\n",
       "    </tr>\n",
       "    <tr>\n",
       "      <th>3</th>\n",
       "      <td>3</td>\n",
       "      <td>What is the most logical completion of this ne...</td>\n",
       "      <td>මෙම පුවත් කතාවේ වඩාත්ම තාර්කික සම්පූර්ණ කිරීම ...</td>\n",
       "      <td>Apple remains the top consumer electronics bra...</td>\n",
       "      <td>පන්තිකාමරවල සහ ඉලෙක්ට්‍රොනිකව පවත්වන ලද යෞවනයන...</td>\n",
       "    </tr>\n",
       "    <tr>\n",
       "      <th>4</th>\n",
       "      <td>4</td>\n",
       "      <td>@zparminter I have three and only the last one...</td>\n",
       "      <td>@zparminter මට තුනක් ඇති අතර මෙතෙක් මා මත මිය ...</td>\n",
       "      <td>positive</td>\n",
       "      <td>ධනාත්මක</td>\n",
       "    </tr>\n",
       "    <tr>\n",
       "      <th>...</th>\n",
       "      <td>...</td>\n",
       "      <td>...</td>\n",
       "      <td>...</td>\n",
       "      <td>...</td>\n",
       "      <td>...</td>\n",
       "    </tr>\n",
       "    <tr>\n",
       "      <th>1153898</th>\n",
       "      <td>1153898</td>\n",
       "      <td>Read this: Up until the mid-14th century, Euro...</td>\n",
       "      <td>මෙය කියවන්න: 14 වන සියවසේ මැද භාගය දක්වා යුරෝප...</td>\n",
       "      <td>unanswerable</td>\n",
       "      <td>පිළිතුරු දිය නොහැකි</td>\n",
       "    </tr>\n",
       "    <tr>\n",
       "      <th>1153899</th>\n",
       "      <td>1153899</td>\n",
       "      <td>See the multi-choice question below:\\n\\nSenten...</td>\n",
       "      <td>පහත බහුවරණ ප්‍රශ්නය බලන්න:\\n\\nවාක්‍ය 1: අද Ibi...</td>\n",
       "      <td>(II).</td>\n",
       "      <td>(II).</td>\n",
       "    </tr>\n",
       "    <tr>\n",
       "      <th>1153900</th>\n",
       "      <td>1153900</td>\n",
       "      <td>Multi-choice question: What is the sentiment o...</td>\n",
       "      <td>බහුවරණ ප්‍රශ්නය: පහත ට්වීට් එකෙහි හැගීම කුමක්ද...</td>\n",
       "      <td>positive</td>\n",
       "      <td>ධනාත්මක</td>\n",
       "    </tr>\n",
       "    <tr>\n",
       "      <th>1153901</th>\n",
       "      <td>1153901</td>\n",
       "      <td>Ahsan loses Finnish Open final KARACHI: Pakist...</td>\n",
       "      <td>අහ්සන්ට ෆින්ලන්ත විවෘත අවසන් තරගය අහිමි වෙයි ක...</td>\n",
       "      <td>No</td>\n",
       "      <td>නැත</td>\n",
       "    </tr>\n",
       "    <tr>\n",
       "      <th>1153902</th>\n",
       "      <td>1153902</td>\n",
       "      <td>Here is an article:\\n\\nI STOOD in the bathroom...</td>\n",
       "      <td>මෙන්න ලිපියක්:\\n\\nමම තලෙයිබාන් පරිශ්‍රයේ නානකා...</td>\n",
       "      <td>A Rope and a Prayer</td>\n",
       "      <td>කඹයක් සහ යාඥාවක්</td>\n",
       "    </tr>\n",
       "  </tbody>\n",
       "</table>\n",
       "<p>1153903 rows × 5 columns</p>\n",
       "</div>"
      ],
      "text/plain": [
       "              Id                                     Original Input  \\\n",
       "0              0  Briefly summarize this sentence: montenegro 's...   \n",
       "1              1  Why is technology a good thing?\\nIs technology...   \n",
       "2              2  Had dinner here last night and overall it was ...   \n",
       "3              3  What is the most logical completion of this ne...   \n",
       "4              4  @zparminter I have three and only the last one...   \n",
       "...          ...                                                ...   \n",
       "1153898  1153898  Read this: Up until the mid-14th century, Euro...   \n",
       "1153899  1153899  See the multi-choice question below:\\n\\nSenten...   \n",
       "1153900  1153900  Multi-choice question: What is the sentiment o...   \n",
       "1153901  1153901  Ahsan loses Finnish Open final KARACHI: Pakist...   \n",
       "1153902  1153902  Here is an article:\\n\\nI STOOD in the bathroom...   \n",
       "\n",
       "                                          Translated Input  \\\n",
       "0        මෙම වාක්‍යය කෙටියෙන් සාරාංශ කරන්න: සඳුදා ප්‍රක...   \n",
       "1        තාක්ෂණය හොඳ දෙයක් වන්නේ ඇයි?\\nතාක්ෂණය හොඳ දෙයක...   \n",
       "2        ඊයේ රාත්‍රියේ මෙහි රාත්‍රී ආහාරය ගත් අතර සමස්ත...   \n",
       "3        මෙම පුවත් කතාවේ වඩාත්ම තාර්කික සම්පූර්ණ කිරීම ...   \n",
       "4        @zparminter මට තුනක් ඇති අතර මෙතෙක් මා මත මිය ...   \n",
       "...                                                    ...   \n",
       "1153898  මෙය කියවන්න: 14 වන සියවසේ මැද භාගය දක්වා යුරෝප...   \n",
       "1153899  පහත බහුවරණ ප්‍රශ්නය බලන්න:\\n\\nවාක්‍ය 1: අද Ibi...   \n",
       "1153900  බහුවරණ ප්‍රශ්නය: පහත ට්වීට් එකෙහි හැගීම කුමක්ද...   \n",
       "1153901  අහ්සන්ට ෆින්ලන්ත විවෘත අවසන් තරගය අහිමි වෙයි ක...   \n",
       "1153902  මෙන්න ලිපියක්:\\n\\nමම තලෙයිබාන් පරිශ්‍රයේ නානකා...   \n",
       "\n",
       "                                           Original Target  \\\n",
       "0                    montenegro 's coalition wins election   \n",
       "1                                                      1).   \n",
       "2                                                 negative   \n",
       "3        Apple remains the top consumer electronics bra...   \n",
       "4                                                 positive   \n",
       "...                                                    ...   \n",
       "1153898                                       unanswerable   \n",
       "1153899                                              (II).   \n",
       "1153900                                           positive   \n",
       "1153901                                                 No   \n",
       "1153902                                A Rope and a Prayer   \n",
       "\n",
       "                                         Translated Target  \n",
       "0                 මොන්ටිනිග්‍රෝ සන්ධානය මැතිවරණයෙන් ජය ගනී  \n",
       "1                                                       1)  \n",
       "2                                                      සෘණ  \n",
       "3        පන්තිකාමරවල සහ ඉලෙක්ට්‍රොනිකව පවත්වන ලද යෞවනයන...  \n",
       "4                                                  ධනාත්මක  \n",
       "...                                                    ...  \n",
       "1153898                                පිළිතුරු දිය නොහැකි  \n",
       "1153899                                              (II).  \n",
       "1153900                                            ධනාත්මක  \n",
       "1153901                                                නැත  \n",
       "1153902                                   කඹයක් සහ යාඥාවක්  \n",
       "\n",
       "[1153903 rows x 5 columns]"
      ]
     },
     "execution_count": 3,
     "metadata": {},
     "output_type": "execute_result"
    }
   ],
   "source": [
    "merged_df"
   ]
  },
  {
   "cell_type": "markdown",
   "id": "5b2722be0f653e7b",
   "metadata": {},
   "source": [
    "# Block 3 (Compare Dataset Length with Original)"
   ]
  },
  {
   "cell_type": "code",
   "execution_count": 4,
   "id": "efb8ea9d8d5f1268",
   "metadata": {
    "ExecuteTime": {
     "end_time": "2024-07-29T09:18:32.920564Z",
     "start_time": "2024-07-29T09:18:28.894570Z"
    }
   },
   "outputs": [
    {
     "name": "stdout",
     "output_type": "stream",
     "text": [
      "1153903 1153903\n",
      "\u001b[32mLength check passed.\u001b[0m\n"
     ]
    }
   ],
   "source": [
    "# Load Original Dataset to Verify\n",
    "import utils\n",
    "from termcolor import colored\n",
    "\n",
    "original_dataset_name = 'flan-zsopt'\n",
    "folder_path = f'datasets/{original_dataset_name}'  # Folder containing the original dataset\n",
    "dataset = utils.load_dataset(folder_path)\n",
    "\n",
    "\n",
    "def check_dataset_length(df: pd.DataFrame, dataset: pd.DataFrame) -> bool:\n",
    "    length_check = len(df) == len(dataset)\n",
    "    if length_check:\n",
    "        print(colored(\"Length check passed.\", \"green\"))\n",
    "    else:\n",
    "        print(colored(f\"Length check failed. Translated: {len(df)}, Original: {len(dataset)}\", \"red\"))\n",
    "    return length_check\n",
    "\n",
    "\n",
    "print(len(merged_df), len(dataset))\n",
    "length_check = check_dataset_length(merged_df, dataset)"
   ]
  },
  {
   "cell_type": "markdown",
   "id": "2530577f65fb89b1",
   "metadata": {},
   "source": [
    "# Block 4 (Verify Row Continuity of the Translated Dataset)"
   ]
  },
  {
   "cell_type": "code",
   "execution_count": 5,
   "id": "d6628ba16d717b7",
   "metadata": {
    "ExecuteTime": {
     "end_time": "2024-07-29T09:18:39.668049Z",
     "start_time": "2024-07-29T09:18:39.556104Z"
    }
   },
   "outputs": [
    {
     "name": "stdout",
     "output_type": "stream",
     "text": [
      "\u001b[32mAll rows are present and in order.\u001b[0m\n"
     ]
    },
    {
     "data": {
      "text/plain": [
       "([], [])"
      ]
     },
     "execution_count": 5,
     "metadata": {},
     "output_type": "execute_result"
    }
   ],
   "source": [
    "missing_ids = []\n",
    "extra_ids = []\n",
    "\n",
    "def check_row_continuity(df: pd.DataFrame, id_column: str = 'Id') -> bool:\n",
    "    global missing_ids, extra_ids\n",
    "\n",
    "    expected_ids = set(df[id_column])\n",
    "    actual_ids = set(range(len(dataset)))\n",
    "\n",
    "    extra_ids = sorted(expected_ids - actual_ids)\n",
    "    missing_ids = sorted(actual_ids - expected_ids)\n",
    "\n",
    "    if missing_ids:\n",
    "        print(colored(f\"Missing IDs: {sorted(missing_ids)}\", \"red\"))\n",
    "\n",
    "    if extra_ids:\n",
    "        print(colored(f\"Extra IDs: {sorted(extra_ids)}\", \"red\"))\n",
    "\n",
    "    if missing_ids or extra_ids:\n",
    "        return False\n",
    "    else:\n",
    "        print(colored(\"All rows are present and in order.\", \"green\"))\n",
    "        return True\n",
    "\n",
    "\n",
    "db_continuity = check_row_continuity(merged_df)"
   ]
  },
  {
   "cell_type": "code",
   "execution_count": 53,
   "id": "8ca070eb",
   "metadata": {},
   "outputs": [
    {
     "name": "stdout",
     "output_type": "stream",
     "text": [
      "\u001b[32mNo missing IDs to translate.\u001b[0m\n"
     ]
    }
   ],
   "source": [
    "# Translate any missing entries\n",
    "\n",
    "from concurrent.futures import wait, FIRST_EXCEPTION\n",
    "from termcolor import colored\n",
    "from deep_translator.exceptions import RequestError\n",
    "from errors import InvalidOutputError, MissingTranslationError, GeneralError, ReachedMaxRetriesError\n",
    "import csv\n",
    "import concurrent.futures\n",
    "import utils\n",
    "from multi_thread_handler import mth\n",
    "\n",
    "dataset_name = 'flan-zsopt'\n",
    "output_folder = f'outputs/{dataset_name}'\n",
    "next_file_index_file_path = f'{output_folder}/next-file-index.txt'\n",
    "\n",
    "next_file_index = utils.read_integer_from_file(next_file_index_file_path)\n",
    "\n",
    "file_name = utils.get_output_csv_path(output_folder, next_file_index, dataset_name, 'csv')\n",
    "\n",
    "\n",
    "def process_row(args):\n",
    "    i, row = args\n",
    "    input_text = row['inputs']\n",
    "    target_text = row['targets']\n",
    "\n",
    "    mth.safe_print(f\"Processing Row: {i}\")\n",
    "    result = utils.choose_translation_method_and_translate(mth.rate_limited_translate, mth.sdk_translate, i, [input_text, target_text])\n",
    "    if len(result) != 2:\n",
    "        raise InvalidOutputError\n",
    "\n",
    "    input_result = result[0]\n",
    "    target_result = result[1]\n",
    "\n",
    "    mth.safe_print(f\"Queued Translation: {i}\")\n",
    "    return i, input_text, input_result, target_text, target_result\n",
    "\n",
    "\n",
    "def translate_specific_ids(ids):\n",
    "    file_name = utils.get_output_csv_path(output_folder, next_file_index, dataset_name, 'csv')\n",
    "\n",
    "    with open(file_name, 'w', newline='', encoding='utf-8') as file:\n",
    "        writer = csv.writer(file)\n",
    "        writer.writerow(['Id', 'Original Input', 'Translated Input', 'Original Target', 'Translated Target'])\n",
    "\n",
    "        utils.update_integer_in_file(next_file_index_file_path, next_file_index + 1)\n",
    "\n",
    "        with concurrent.futures.ThreadPoolExecutor(max_workers=20) as executor:\n",
    "            futures = {executor.submit(process_row, (i, dataset.iloc[i])): i for i in ids}\n",
    "            results = {}\n",
    "\n",
    "            done, not_done = wait(futures.keys(), return_when=FIRST_EXCEPTION)\n",
    "\n",
    "            for future in done:\n",
    "                try:\n",
    "                    i, input_text, input_result, target_text, target_result = future.result()\n",
    "                    results[i] = (input_text, input_result, target_text, target_result)\n",
    "                except RequestError as e:\n",
    "                    mth.safe_print(colored(f\"[Network Error - Automatic Retry]: {e}\", 'red'))\n",
    "                    raise ReachedMaxRetriesError\n",
    "                except Exception as e:\n",
    "                    mth.safe_print(colored(f\"[Non-Network Error]: {e}\", 'red'))\n",
    "                    raise e\n",
    "\n",
    "            # Write the results\n",
    "            for i in ids:\n",
    "                if i in results:\n",
    "                    writer.writerow([i] + list(results[i]))\n",
    "                else:\n",
    "                    raise MissingTranslationError(i)\n",
    "\n",
    "if missing_ids:\n",
    "    translate_specific_ids(missing_ids)\n",
    "else:\n",
    "    print(colored(\"No missing IDs to translate.\", \"green\"))"
   ]
  },
  {
   "cell_type": "markdown",
   "id": "67659dd082e6cde5",
   "metadata": {},
   "source": [
    "# Block 5,6,7 (Column Data Comparison)"
   ]
  },
  {
   "cell_type": "code",
   "execution_count": 6,
   "id": "e86f2a7c2f37e068",
   "metadata": {
    "ExecuteTime": {
     "end_time": "2024-07-29T09:27:03.052919Z",
     "start_time": "2024-07-29T09:27:02.454479Z"
    }
   },
   "outputs": [
    {
     "name": "stdout",
     "output_type": "stream",
     "text": [
      "\u001b[32mLength check passed.\u001b[0m\n",
      "\u001b[32m[inputs] Data comparison Successful.\u001b[0m\n",
      "\u001b[32m[targets] Data comparison Successful.\u001b[0m\n"
     ]
    },
    {
     "data": {
      "text/plain": [
       "True"
      ]
     },
     "execution_count": 6,
     "metadata": {},
     "output_type": "execute_result"
    }
   ],
   "source": [
    "assert check_dataset_length(merged_df, dataset)\n",
    "\n",
    "\n",
    "def compare_columns(df1: pd.DataFrame, df2: pd.DataFrame, df1_col_name: str, df2_col_name: str):\n",
    "    comparison_df = pd.DataFrame({\n",
    "        f'{df1_col_name}': df1[df1_col_name],\n",
    "        f'{df2_col_name}': df2[df2_col_name],\n",
    "        'match': df1[df1_col_name] == df2[df2_col_name]\n",
    "    })\n",
    "    mismatched_df = comparison_df[~comparison_df['match']]\n",
    "    if len(mismatched_df) > 0:\n",
    "        print(colored(f\"[{df2_col_name}] Some entries didn't match with the originals\", \"red\"))\n",
    "    else:\n",
    "        print(colored(f\"[{df2_col_name}] Data comparison Successful.\", \"green\"))\n",
    "\n",
    "    return mismatched_df\n",
    "\n",
    "\n",
    "def validate_columns():\n",
    "    input_col_mismatches = compare_columns(merged_df, dataset, 'Original Input', 'inputs')\n",
    "    target_col_mismatches = compare_columns(merged_df, dataset, 'Original Target', 'targets')\n",
    "\n",
    "    if len(input_col_mismatches) == 0 and len(target_col_mismatches) == 0:\n",
    "        return True\n",
    "    else:\n",
    "        return False\n",
    "\n",
    "\n",
    "validate_columns()"
   ]
  },
  {
   "cell_type": "code",
   "execution_count": 21,
   "id": "69ce797480461f3e",
   "metadata": {
    "ExecuteTime": {
     "end_time": "2024-07-29T09:27:09.876554Z",
     "start_time": "2024-07-29T09:27:09.567622Z"
    }
   },
   "outputs": [
    {
     "name": "stdout",
     "output_type": "stream",
     "text": [
      "\u001b[32m[inputs] Data comparison Successful.\u001b[0m\n"
     ]
    },
    {
     "data": {
      "text/html": [
       "<div>\n",
       "<style scoped>\n",
       "    .dataframe tbody tr th:only-of-type {\n",
       "        vertical-align: middle;\n",
       "    }\n",
       "\n",
       "    .dataframe tbody tr th {\n",
       "        vertical-align: top;\n",
       "    }\n",
       "\n",
       "    .dataframe thead th {\n",
       "        text-align: right;\n",
       "    }\n",
       "</style>\n",
       "<table border=\"1\" class=\"dataframe\">\n",
       "  <thead>\n",
       "    <tr style=\"text-align: right;\">\n",
       "      <th></th>\n",
       "      <th>Original Input</th>\n",
       "      <th>inputs</th>\n",
       "      <th>match</th>\n",
       "    </tr>\n",
       "  </thead>\n",
       "  <tbody>\n",
       "  </tbody>\n",
       "</table>\n",
       "</div>"
      ],
      "text/plain": [
       "Empty DataFrame\n",
       "Columns: [Original Input, inputs, match]\n",
       "Index: []"
      ]
     },
     "execution_count": 21,
     "metadata": {},
     "output_type": "execute_result"
    }
   ],
   "source": [
    "compare_columns(merged_df, dataset, 'Original Input', 'inputs')"
   ]
  },
  {
   "cell_type": "code",
   "execution_count": 7,
   "id": "7ea3335e3f6d732a",
   "metadata": {
    "ExecuteTime": {
     "end_time": "2024-07-29T09:27:11.818057Z",
     "start_time": "2024-07-29T09:27:11.670333Z"
    }
   },
   "outputs": [
    {
     "name": "stdout",
     "output_type": "stream",
     "text": [
      "\u001b[32m[targets] Data comparison Successful.\u001b[0m\n"
     ]
    },
    {
     "data": {
      "text/html": [
       "<div>\n",
       "<style scoped>\n",
       "    .dataframe tbody tr th:only-of-type {\n",
       "        vertical-align: middle;\n",
       "    }\n",
       "\n",
       "    .dataframe tbody tr th {\n",
       "        vertical-align: top;\n",
       "    }\n",
       "\n",
       "    .dataframe thead th {\n",
       "        text-align: right;\n",
       "    }\n",
       "</style>\n",
       "<table border=\"1\" class=\"dataframe\">\n",
       "  <thead>\n",
       "    <tr style=\"text-align: right;\">\n",
       "      <th></th>\n",
       "      <th>Original Target</th>\n",
       "      <th>targets</th>\n",
       "      <th>match</th>\n",
       "    </tr>\n",
       "  </thead>\n",
       "  <tbody>\n",
       "  </tbody>\n",
       "</table>\n",
       "</div>"
      ],
      "text/plain": [
       "Empty DataFrame\n",
       "Columns: [Original Target, targets, match]\n",
       "Index: []"
      ]
     },
     "execution_count": 7,
     "metadata": {},
     "output_type": "execute_result"
    }
   ],
   "source": [
    "compare_columns(merged_df, dataset, 'Original Target', 'targets')"
   ]
  },
  {
   "cell_type": "markdown",
   "id": "839aafa843beb692",
   "metadata": {},
   "source": [
    "# Block 8 (Combine Metadata Records)"
   ]
  },
  {
   "cell_type": "code",
   "execution_count": 8,
   "id": "554d5cd655d0523d",
   "metadata": {
    "ExecuteTime": {
     "end_time": "2024-07-29T09:39:10.354272Z",
     "start_time": "2024-07-29T09:39:10.112770Z"
    }
   },
   "outputs": [
    {
     "name": "stdout",
     "output_type": "stream",
     "text": [
      "Metadata length: 1153903\n",
      "\u001b[32mAll rows are present and in order.\u001b[0m\n",
      "\u001b[32m[inputs] Data comparison Successful.\u001b[0m\n",
      "\u001b[32m[targets] Data comparison Successful.\u001b[0m\n"
     ]
    },
    {
     "data": {
      "text/html": [
       "<div>\n",
       "<style scoped>\n",
       "    .dataframe tbody tr th:only-of-type {\n",
       "        vertical-align: middle;\n",
       "    }\n",
       "\n",
       "    .dataframe tbody tr th {\n",
       "        vertical-align: top;\n",
       "    }\n",
       "\n",
       "    .dataframe thead th {\n",
       "        text-align: right;\n",
       "    }\n",
       "</style>\n",
       "<table border=\"1\" class=\"dataframe\">\n",
       "  <thead>\n",
       "    <tr style=\"text-align: right;\">\n",
       "      <th></th>\n",
       "      <th>Id</th>\n",
       "      <th>Original Input</th>\n",
       "      <th>Translated Input</th>\n",
       "      <th>Original Target</th>\n",
       "      <th>Translated Target</th>\n",
       "      <th>_template_idx</th>\n",
       "      <th>_task_source</th>\n",
       "      <th>_task_name</th>\n",
       "      <th>_template_type</th>\n",
       "    </tr>\n",
       "  </thead>\n",
       "  <tbody>\n",
       "    <tr>\n",
       "      <th>0</th>\n",
       "      <td>0</td>\n",
       "      <td>Briefly summarize this sentence: montenegro 's...</td>\n",
       "      <td>මෙම වාක්‍යය කෙටියෙන් සාරාංශ කරන්න: සඳුදා ප්‍රක...</td>\n",
       "      <td>montenegro 's coalition wins election</td>\n",
       "      <td>මොන්ටිනිග්‍රෝ සන්ධානය මැතිවරණයෙන් ජය ගනී</td>\n",
       "      <td>1</td>\n",
       "      <td>Flan2021</td>\n",
       "      <td>gigaword:1.2.0</td>\n",
       "      <td>zs_opt</td>\n",
       "    </tr>\n",
       "    <tr>\n",
       "      <th>1</th>\n",
       "      <td>1</td>\n",
       "      <td>Why is technology a good thing?\\nIs technology...</td>\n",
       "      <td>තාක්ෂණය හොඳ දෙයක් වන්නේ ඇයි?\\nතාක්ෂණය හොඳ දෙයක...</td>\n",
       "      <td>1).</td>\n",
       "      <td>1)</td>\n",
       "      <td>0</td>\n",
       "      <td>Flan2021</td>\n",
       "      <td>glue/qqp:2.0.0</td>\n",
       "      <td>zs_opt</td>\n",
       "    </tr>\n",
       "    <tr>\n",
       "      <th>2</th>\n",
       "      <td>2</td>\n",
       "      <td>Had dinner here last night and overall it was ...</td>\n",
       "      <td>ඊයේ රාත්‍රියේ මෙහි රාත්‍රී ආහාරය ගත් අතර සමස්ත...</td>\n",
       "      <td>negative</td>\n",
       "      <td>සෘණ</td>\n",
       "      <td>0</td>\n",
       "      <td>Flan2021</td>\n",
       "      <td>yelp_polarity_reviews:0.2.0</td>\n",
       "      <td>zs_opt</td>\n",
       "    </tr>\n",
       "    <tr>\n",
       "      <th>3</th>\n",
       "      <td>3</td>\n",
       "      <td>What is the most logical completion of this ne...</td>\n",
       "      <td>මෙම පුවත් කතාවේ වඩාත්ම තාර්කික සම්පූර්ණ කිරීම ...</td>\n",
       "      <td>Apple remains the top consumer electronics bra...</td>\n",
       "      <td>පන්තිකාමරවල සහ ඉලෙක්ට්‍රොනිකව පවත්වන ලද යෞවනයන...</td>\n",
       "      <td>8</td>\n",
       "      <td>Flan2021</td>\n",
       "      <td>super_glue/record:1.0.2</td>\n",
       "      <td>zs_opt</td>\n",
       "    </tr>\n",
       "    <tr>\n",
       "      <th>4</th>\n",
       "      <td>4</td>\n",
       "      <td>@zparminter I have three and only the last one...</td>\n",
       "      <td>@zparminter මට තුනක් ඇති අතර මෙතෙක් මා මත මිය ...</td>\n",
       "      <td>positive</td>\n",
       "      <td>ධනාත්මක</td>\n",
       "      <td>1</td>\n",
       "      <td>Flan2021</td>\n",
       "      <td>sentiment140:1.0.0</td>\n",
       "      <td>zs_opt</td>\n",
       "    </tr>\n",
       "    <tr>\n",
       "      <th>...</th>\n",
       "      <td>...</td>\n",
       "      <td>...</td>\n",
       "      <td>...</td>\n",
       "      <td>...</td>\n",
       "      <td>...</td>\n",
       "      <td>...</td>\n",
       "      <td>...</td>\n",
       "      <td>...</td>\n",
       "      <td>...</td>\n",
       "    </tr>\n",
       "    <tr>\n",
       "      <th>1153898</th>\n",
       "      <td>1153898</td>\n",
       "      <td>Read this: Up until the mid-14th century, Euro...</td>\n",
       "      <td>මෙය කියවන්න: 14 වන සියවසේ මැද භාගය දක්වා යුරෝප...</td>\n",
       "      <td>unanswerable</td>\n",
       "      <td>පිළිතුරු දිය නොහැකි</td>\n",
       "      <td>8</td>\n",
       "      <td>Flan2021</td>\n",
       "      <td>squad/v2.0:3.0.0</td>\n",
       "      <td>zs_opt</td>\n",
       "    </tr>\n",
       "    <tr>\n",
       "      <th>1153899</th>\n",
       "      <td>1153899</td>\n",
       "      <td>See the multi-choice question below:\\n\\nSenten...</td>\n",
       "      <td>පහත බහුවරණ ප්‍රශ්නය බලන්න:\\n\\nවාක්‍ය 1: අද Ibi...</td>\n",
       "      <td>(II).</td>\n",
       "      <td>(II).</td>\n",
       "      <td>4</td>\n",
       "      <td>Flan2021</td>\n",
       "      <td>glue/mnli:2.0.0</td>\n",
       "      <td>zs_opt</td>\n",
       "    </tr>\n",
       "    <tr>\n",
       "      <th>1153900</th>\n",
       "      <td>1153900</td>\n",
       "      <td>Multi-choice question: What is the sentiment o...</td>\n",
       "      <td>බහුවරණ ප්‍රශ්නය: පහත ට්වීට් එකෙහි හැගීම කුමක්ද...</td>\n",
       "      <td>positive</td>\n",
       "      <td>ධනාත්මක</td>\n",
       "      <td>4</td>\n",
       "      <td>Flan2021</td>\n",
       "      <td>sentiment140:1.0.0</td>\n",
       "      <td>zs_opt</td>\n",
       "    </tr>\n",
       "    <tr>\n",
       "      <th>1153901</th>\n",
       "      <td>1153901</td>\n",
       "      <td>Ahsan loses Finnish Open final KARACHI: Pakist...</td>\n",
       "      <td>අහ්සන්ට ෆින්ලන්ත විවෘත අවසන් තරගය අහිමි වෙයි ක...</td>\n",
       "      <td>No</td>\n",
       "      <td>නැත</td>\n",
       "      <td>0</td>\n",
       "      <td>Flan2021</td>\n",
       "      <td>anli/r3:0.1.0</td>\n",
       "      <td>zs_opt</td>\n",
       "    </tr>\n",
       "    <tr>\n",
       "      <th>1153902</th>\n",
       "      <td>1153902</td>\n",
       "      <td>Here is an article:\\n\\nI STOOD in the bathroom...</td>\n",
       "      <td>මෙන්න ලිපියක්:\\n\\nමම තලෙයිබාන් පරිශ්‍රයේ නානකා...</td>\n",
       "      <td>A Rope and a Prayer</td>\n",
       "      <td>කඹයක් සහ යාඥාවක්</td>\n",
       "      <td>9</td>\n",
       "      <td>Flan2021</td>\n",
       "      <td>newsroom:1.0.0</td>\n",
       "      <td>zs_opt</td>\n",
       "    </tr>\n",
       "  </tbody>\n",
       "</table>\n",
       "<p>1153903 rows × 9 columns</p>\n",
       "</div>"
      ],
      "text/plain": [
       "              Id                                     Original Input  \\\n",
       "0              0  Briefly summarize this sentence: montenegro 's...   \n",
       "1              1  Why is technology a good thing?\\nIs technology...   \n",
       "2              2  Had dinner here last night and overall it was ...   \n",
       "3              3  What is the most logical completion of this ne...   \n",
       "4              4  @zparminter I have three and only the last one...   \n",
       "...          ...                                                ...   \n",
       "1153898  1153898  Read this: Up until the mid-14th century, Euro...   \n",
       "1153899  1153899  See the multi-choice question below:\\n\\nSenten...   \n",
       "1153900  1153900  Multi-choice question: What is the sentiment o...   \n",
       "1153901  1153901  Ahsan loses Finnish Open final KARACHI: Pakist...   \n",
       "1153902  1153902  Here is an article:\\n\\nI STOOD in the bathroom...   \n",
       "\n",
       "                                          Translated Input  \\\n",
       "0        මෙම වාක්‍යය කෙටියෙන් සාරාංශ කරන්න: සඳුදා ප්‍රක...   \n",
       "1        තාක්ෂණය හොඳ දෙයක් වන්නේ ඇයි?\\nතාක්ෂණය හොඳ දෙයක...   \n",
       "2        ඊයේ රාත්‍රියේ මෙහි රාත්‍රී ආහාරය ගත් අතර සමස්ත...   \n",
       "3        මෙම පුවත් කතාවේ වඩාත්ම තාර්කික සම්පූර්ණ කිරීම ...   \n",
       "4        @zparminter මට තුනක් ඇති අතර මෙතෙක් මා මත මිය ...   \n",
       "...                                                    ...   \n",
       "1153898  මෙය කියවන්න: 14 වන සියවසේ මැද භාගය දක්වා යුරෝප...   \n",
       "1153899  පහත බහුවරණ ප්‍රශ්නය බලන්න:\\n\\nවාක්‍ය 1: අද Ibi...   \n",
       "1153900  බහුවරණ ප්‍රශ්නය: පහත ට්වීට් එකෙහි හැගීම කුමක්ද...   \n",
       "1153901  අහ්සන්ට ෆින්ලන්ත විවෘත අවසන් තරගය අහිමි වෙයි ක...   \n",
       "1153902  මෙන්න ලිපියක්:\\n\\nමම තලෙයිබාන් පරිශ්‍රයේ නානකා...   \n",
       "\n",
       "                                           Original Target  \\\n",
       "0                    montenegro 's coalition wins election   \n",
       "1                                                      1).   \n",
       "2                                                 negative   \n",
       "3        Apple remains the top consumer electronics bra...   \n",
       "4                                                 positive   \n",
       "...                                                    ...   \n",
       "1153898                                       unanswerable   \n",
       "1153899                                              (II).   \n",
       "1153900                                           positive   \n",
       "1153901                                                 No   \n",
       "1153902                                A Rope and a Prayer   \n",
       "\n",
       "                                         Translated Target  _template_idx  \\\n",
       "0                 මොන්ටිනිග්‍රෝ සන්ධානය මැතිවරණයෙන් ජය ගනී              1   \n",
       "1                                                       1)              0   \n",
       "2                                                      සෘණ              0   \n",
       "3        පන්තිකාමරවල සහ ඉලෙක්ට්‍රොනිකව පවත්වන ලද යෞවනයන...              8   \n",
       "4                                                  ධනාත්මක              1   \n",
       "...                                                    ...            ...   \n",
       "1153898                                පිළිතුරු දිය නොහැකි              8   \n",
       "1153899                                              (II).              4   \n",
       "1153900                                            ධනාත්මක              4   \n",
       "1153901                                                නැත              0   \n",
       "1153902                                   කඹයක් සහ යාඥාවක්              9   \n",
       "\n",
       "        _task_source                   _task_name _template_type  \n",
       "0           Flan2021               gigaword:1.2.0         zs_opt  \n",
       "1           Flan2021               glue/qqp:2.0.0         zs_opt  \n",
       "2           Flan2021  yelp_polarity_reviews:0.2.0         zs_opt  \n",
       "3           Flan2021      super_glue/record:1.0.2         zs_opt  \n",
       "4           Flan2021           sentiment140:1.0.0         zs_opt  \n",
       "...              ...                          ...            ...  \n",
       "1153898     Flan2021             squad/v2.0:3.0.0         zs_opt  \n",
       "1153899     Flan2021              glue/mnli:2.0.0         zs_opt  \n",
       "1153900     Flan2021           sentiment140:1.0.0         zs_opt  \n",
       "1153901     Flan2021                anli/r3:0.1.0         zs_opt  \n",
       "1153902     Flan2021               newsroom:1.0.0         zs_opt  \n",
       "\n",
       "[1153903 rows x 9 columns]"
      ]
     },
     "execution_count": 8,
     "metadata": {},
     "output_type": "execute_result"
    }
   ],
   "source": [
    "# Adding metadata to the merged dataset\n",
    "dataset_metadata = dataset.loc[:, ~dataset.columns.isin(['inputs', 'targets'])]\n",
    "print(f\"Metadata length: {len(dataset_metadata)}\")\n",
    "\n",
    "assert check_row_continuity(merged_df)\n",
    "assert validate_columns()\n",
    "assert len(dataset_metadata) == len(merged_df)\n",
    "\n",
    "merged_df_with_metadata = pd.concat([merged_df, dataset_metadata], axis=1)\n",
    "\n",
    "merged_df_with_metadata"
   ]
  },
  {
   "cell_type": "markdown",
   "id": "7bebd3797056f9a7",
   "metadata": {},
   "source": [
    "# Block 9 (Save as Parquet)"
   ]
  },
  {
   "cell_type": "code",
   "execution_count": 9,
   "id": "31fe38ed926db9d5",
   "metadata": {
    "ExecuteTime": {
     "end_time": "2024-07-29T09:41:11.808389Z",
     "start_time": "2024-07-29T09:41:06.506335Z"
    }
   },
   "outputs": [
    {
     "name": "stdout",
     "output_type": "stream",
     "text": [
      "\u001b[32mAll rows are present and in order.\u001b[0m\n",
      "\u001b[32m[inputs] Data comparison Successful.\u001b[0m\n",
      "\u001b[32m[targets] Data comparison Successful.\u001b[0m\n",
      "Data saved as translated_datasets/flan-zsopt.parquet\n"
     ]
    }
   ],
   "source": [
    "import os\n",
    "\n",
    "parquet_file_name = \"flan-zsopt\"  # Name of the parquet file to save\n",
    "\n",
    "assert check_row_continuity(merged_df_with_metadata)\n",
    "assert validate_columns()\n",
    "\n",
    "updated_df = merged_df_with_metadata.drop(columns='Id')\n",
    "\n",
    "\n",
    "def save_as_parquet(df: pd.DataFrame, file_name: str) -> str:\n",
    "    parquet_path = f\"translated_datasets/{file_name}.parquet\"\n",
    "    if os.path.exists(parquet_path):\n",
    "        print(f\"File {parquet_path} already exists. Not overwriting.\")\n",
    "        return parquet_path\n",
    "    df.to_parquet(parquet_path, index=False)\n",
    "    print(f\"Data saved as {parquet_path}\")\n",
    "    return parquet_path\n",
    "\n",
    "\n",
    "parquet_path = save_as_parquet(updated_df, parquet_file_name)"
   ]
  },
  {
   "cell_type": "markdown",
   "id": "82c07cbceeecad6e",
   "metadata": {},
   "source": [
    "# Block 10 (Upload to Hugging Face)\n",
    "<em>(Make sure to login with `huggingface-cli` before running this block)</em>"
   ]
  },
  {
   "cell_type": "code",
   "execution_count": 14,
   "id": "1ca138ae",
   "metadata": {},
   "outputs": [
    {
     "name": "stdout",
     "output_type": "stream",
     "text": [
      "Loading the saved parquet file: translated_datasets/flan-zsopt.parquet\n"
     ]
    }
   ],
   "source": [
    "# parquet_file_name = \"flan-zsopt\" # Uncomment if you want to change the parquet file name\n",
    "# parquet_path = f\"translated_datasets/{parquet_file_name}.parquet\"\n",
    "print(f\"Loading the saved parquet file: {parquet_path}\")\n",
    "saved_df = pd.read_parquet(parquet_path)"
   ]
  },
  {
   "cell_type": "code",
   "execution_count": 15,
   "id": "32f5b01df129318a",
   "metadata": {
    "ExecuteTime": {
     "end_time": "2024-07-29T09:48:48.081158Z",
     "start_time": "2024-07-29T09:48:27.489985Z"
    }
   },
   "outputs": [
    {
     "name": "stdout",
     "output_type": "stream",
     "text": [
      "Parquet file size: 1612.20 MB, Total chunks: 7, Rows per chunk: 164844\n"
     ]
    },
    {
     "data": {
      "application/vnd.jupyter.widget-view+json": {
       "model_id": "d6710f9f5ad44a55b9c8ec15fc0060c4",
       "version_major": 2,
       "version_minor": 0
      },
      "text/plain": [
       "Uploading the dataset shards:   0%|          | 0/2 [00:00<?, ?it/s]"
      ]
     },
     "metadata": {},
     "output_type": "display_data"
    },
    {
     "data": {
      "application/vnd.jupyter.widget-view+json": {
       "model_id": "bc06797a8cc94a73b92bfc64e0aefed0",
       "version_major": 2,
       "version_minor": 0
      },
      "text/plain": [
       "Creating parquet from Arrow format:   0%|          | 0/83 [00:00<?, ?ba/s]"
      ]
     },
     "metadata": {},
     "output_type": "display_data"
    },
    {
     "data": {
      "application/vnd.jupyter.widget-view+json": {
       "model_id": "15b2790210bd48c1b0e5b7a14e89f78c",
       "version_major": 2,
       "version_minor": 0
      },
      "text/plain": [
       "Creating parquet from Arrow format:   0%|          | 0/83 [00:00<?, ?ba/s]"
      ]
     },
     "metadata": {},
     "output_type": "display_data"
    },
    {
     "data": {
      "application/vnd.jupyter.widget-view+json": {
       "model_id": "b194f3ecf3844f2da319f894e9e08d48",
       "version_major": 2,
       "version_minor": 0
      },
      "text/plain": [
       "README.md:   0%|          | 0.00/1.24k [00:00<?, ?B/s]"
      ]
     },
     "metadata": {},
     "output_type": "display_data"
    },
    {
     "name": "stdout",
     "output_type": "stream",
     "text": [
      "Uploaded chunk 0\n"
     ]
    },
    {
     "data": {
      "application/vnd.jupyter.widget-view+json": {
       "model_id": "3481367013764720a9bab7b238ef84c4",
       "version_major": 2,
       "version_minor": 0
      },
      "text/plain": [
       "Uploading the dataset shards:   0%|          | 0/2 [00:00<?, ?it/s]"
      ]
     },
     "metadata": {},
     "output_type": "display_data"
    },
    {
     "data": {
      "application/vnd.jupyter.widget-view+json": {
       "model_id": "924a71f81b9a45f3b022885e4ec4659f",
       "version_major": 2,
       "version_minor": 0
      },
      "text/plain": [
       "Creating parquet from Arrow format:   0%|          | 0/83 [00:00<?, ?ba/s]"
      ]
     },
     "metadata": {},
     "output_type": "display_data"
    },
    {
     "data": {
      "application/vnd.jupyter.widget-view+json": {
       "model_id": "2cbad5b16f054307887159d546248cc3",
       "version_major": 2,
       "version_minor": 0
      },
      "text/plain": [
       "Creating parquet from Arrow format:   0%|          | 0/83 [00:00<?, ?ba/s]"
      ]
     },
     "metadata": {},
     "output_type": "display_data"
    },
    {
     "data": {
      "application/vnd.jupyter.widget-view+json": {
       "model_id": "5c9d1e8337f041e6961de3ab21402e9f",
       "version_major": 2,
       "version_minor": 0
      },
      "text/plain": [
       "README.md:   0%|          | 0.00/1.87k [00:00<?, ?B/s]"
      ]
     },
     "metadata": {},
     "output_type": "display_data"
    },
    {
     "name": "stdout",
     "output_type": "stream",
     "text": [
      "Uploaded chunk 1\n"
     ]
    },
    {
     "data": {
      "application/vnd.jupyter.widget-view+json": {
       "model_id": "691a4bff03b34dcbafe133853f5a7b07",
       "version_major": 2,
       "version_minor": 0
      },
      "text/plain": [
       "Uploading the dataset shards:   0%|          | 0/2 [00:00<?, ?it/s]"
      ]
     },
     "metadata": {},
     "output_type": "display_data"
    },
    {
     "data": {
      "application/vnd.jupyter.widget-view+json": {
       "model_id": "43201c0168bc4b0cac55066dad91ee84",
       "version_major": 2,
       "version_minor": 0
      },
      "text/plain": [
       "Creating parquet from Arrow format:   0%|          | 0/83 [00:00<?, ?ba/s]"
      ]
     },
     "metadata": {},
     "output_type": "display_data"
    },
    {
     "data": {
      "application/vnd.jupyter.widget-view+json": {
       "model_id": "5d9bd712eb3f4401887be42616131350",
       "version_major": 2,
       "version_minor": 0
      },
      "text/plain": [
       "Creating parquet from Arrow format:   0%|          | 0/83 [00:00<?, ?ba/s]"
      ]
     },
     "metadata": {},
     "output_type": "display_data"
    },
    {
     "data": {
      "application/vnd.jupyter.widget-view+json": {
       "model_id": "293453bdc24e40f08450b101663604e1",
       "version_major": 2,
       "version_minor": 0
      },
      "text/plain": [
       "README.md:   0%|          | 0.00/2.02k [00:00<?, ?B/s]"
      ]
     },
     "metadata": {},
     "output_type": "display_data"
    },
    {
     "name": "stdout",
     "output_type": "stream",
     "text": [
      "Uploaded chunk 2\n"
     ]
    },
    {
     "data": {
      "application/vnd.jupyter.widget-view+json": {
       "model_id": "bff69dd3208d4c78b4ae4a189ea9d2b3",
       "version_major": 2,
       "version_minor": 0
      },
      "text/plain": [
       "Uploading the dataset shards:   0%|          | 0/2 [00:00<?, ?it/s]"
      ]
     },
     "metadata": {},
     "output_type": "display_data"
    },
    {
     "data": {
      "application/vnd.jupyter.widget-view+json": {
       "model_id": "1eebf2c45f1249229e7ddff271ad0e78",
       "version_major": 2,
       "version_minor": 0
      },
      "text/plain": [
       "Creating parquet from Arrow format:   0%|          | 0/83 [00:00<?, ?ba/s]"
      ]
     },
     "metadata": {},
     "output_type": "display_data"
    },
    {
     "data": {
      "application/vnd.jupyter.widget-view+json": {
       "model_id": "8ec9b8d51f0146c9a12734488d39a60c",
       "version_major": 2,
       "version_minor": 0
      },
      "text/plain": [
       "Creating parquet from Arrow format:   0%|          | 0/83 [00:00<?, ?ba/s]"
      ]
     },
     "metadata": {},
     "output_type": "display_data"
    },
    {
     "data": {
      "application/vnd.jupyter.widget-view+json": {
       "model_id": "f4f9593d840a4dc19823983d1d4b7579",
       "version_major": 2,
       "version_minor": 0
      },
      "text/plain": [
       "README.md:   0%|          | 0.00/2.18k [00:00<?, ?B/s]"
      ]
     },
     "metadata": {},
     "output_type": "display_data"
    },
    {
     "name": "stdout",
     "output_type": "stream",
     "text": [
      "Uploaded chunk 3\n"
     ]
    },
    {
     "data": {
      "application/vnd.jupyter.widget-view+json": {
       "model_id": "58692a645c244100925630131862211b",
       "version_major": 2,
       "version_minor": 0
      },
      "text/plain": [
       "Uploading the dataset shards:   0%|          | 0/2 [00:00<?, ?it/s]"
      ]
     },
     "metadata": {},
     "output_type": "display_data"
    },
    {
     "data": {
      "application/vnd.jupyter.widget-view+json": {
       "model_id": "3f63676537b34b9ba6316b7296c432d3",
       "version_major": 2,
       "version_minor": 0
      },
      "text/plain": [
       "Creating parquet from Arrow format:   0%|          | 0/83 [00:00<?, ?ba/s]"
      ]
     },
     "metadata": {},
     "output_type": "display_data"
    },
    {
     "data": {
      "application/vnd.jupyter.widget-view+json": {
       "model_id": "3726e7918fa847e095df1106f160e095",
       "version_major": 2,
       "version_minor": 0
      },
      "text/plain": [
       "Creating parquet from Arrow format:   0%|          | 0/83 [00:00<?, ?ba/s]"
      ]
     },
     "metadata": {},
     "output_type": "display_data"
    },
    {
     "data": {
      "application/vnd.jupyter.widget-view+json": {
       "model_id": "d5129831e738461eb3cb67736963a63c",
       "version_major": 2,
       "version_minor": 0
      },
      "text/plain": [
       "README.md:   0%|          | 0.00/2.33k [00:00<?, ?B/s]"
      ]
     },
     "metadata": {},
     "output_type": "display_data"
    },
    {
     "name": "stdout",
     "output_type": "stream",
     "text": [
      "Uploaded chunk 4\n"
     ]
    },
    {
     "data": {
      "application/vnd.jupyter.widget-view+json": {
       "model_id": "2da4a34c3b3d491d85cf70ab11661869",
       "version_major": 2,
       "version_minor": 0
      },
      "text/plain": [
       "Uploading the dataset shards:   0%|          | 0/2 [00:00<?, ?it/s]"
      ]
     },
     "metadata": {},
     "output_type": "display_data"
    },
    {
     "data": {
      "application/vnd.jupyter.widget-view+json": {
       "model_id": "b2f41c89a9d74c6593c967c27340ae2f",
       "version_major": 2,
       "version_minor": 0
      },
      "text/plain": [
       "Creating parquet from Arrow format:   0%|          | 0/83 [00:00<?, ?ba/s]"
      ]
     },
     "metadata": {},
     "output_type": "display_data"
    },
    {
     "data": {
      "application/vnd.jupyter.widget-view+json": {
       "model_id": "32fe93b661284af2a052d511dde28eed",
       "version_major": 2,
       "version_minor": 0
      },
      "text/plain": [
       "Creating parquet from Arrow format:   0%|          | 0/83 [00:00<?, ?ba/s]"
      ]
     },
     "metadata": {},
     "output_type": "display_data"
    },
    {
     "data": {
      "application/vnd.jupyter.widget-view+json": {
       "model_id": "4177ffcfa7884d07b549c0f93ea0b601",
       "version_major": 2,
       "version_minor": 0
      },
      "text/plain": [
       "README.md:   0%|          | 0.00/2.48k [00:00<?, ?B/s]"
      ]
     },
     "metadata": {},
     "output_type": "display_data"
    },
    {
     "name": "stdout",
     "output_type": "stream",
     "text": [
      "Uploaded chunk 5\n"
     ]
    },
    {
     "data": {
      "application/vnd.jupyter.widget-view+json": {
       "model_id": "fbb29e75b71345798dc3ccd79c92ee51",
       "version_major": 2,
       "version_minor": 0
      },
      "text/plain": [
       "Uploading the dataset shards:   0%|          | 0/2 [00:00<?, ?it/s]"
      ]
     },
     "metadata": {},
     "output_type": "display_data"
    },
    {
     "data": {
      "application/vnd.jupyter.widget-view+json": {
       "model_id": "12f48afa78bf4375815f56bd119f4499",
       "version_major": 2,
       "version_minor": 0
      },
      "text/plain": [
       "Creating parquet from Arrow format:   0%|          | 0/83 [00:00<?, ?ba/s]"
      ]
     },
     "metadata": {},
     "output_type": "display_data"
    },
    {
     "data": {
      "application/vnd.jupyter.widget-view+json": {
       "model_id": "433d81ff815440ab99201b75eb2bf53c",
       "version_major": 2,
       "version_minor": 0
      },
      "text/plain": [
       "Creating parquet from Arrow format:   0%|          | 0/83 [00:00<?, ?ba/s]"
      ]
     },
     "metadata": {},
     "output_type": "display_data"
    },
    {
     "data": {
      "application/vnd.jupyter.widget-view+json": {
       "model_id": "11d2b3fcf1c84920bff7ccf48977f9a0",
       "version_major": 2,
       "version_minor": 0
      },
      "text/plain": [
       "README.md:   0%|          | 0.00/2.63k [00:00<?, ?B/s]"
      ]
     },
     "metadata": {},
     "output_type": "display_data"
    },
    {
     "name": "stdout",
     "output_type": "stream",
     "text": [
      "Uploaded chunk 6\n"
     ]
    }
   ],
   "source": [
    "\n",
    "from datasets import Dataset\n",
    "import os\n",
    "\n",
    "repo_id = \"0xAIT/sinhala-flan\"\n",
    "subset_name = \"flan_zsopt\"  # Make sure to change this to the subset name (Use underscores instead of hyphens e.g. \"flan_zsopt\")\n",
    "\n",
    "assert check_row_continuity(merged_df)\n",
    "assert validate_columns()\n",
    "\n",
    "# read full parquet file size\n",
    "chunk_size_in_mb = 250 # MB\n",
    "file_size = os.path.getsize(parquet_path) / (1024 * 1024)\n",
    "chunks_count = int(file_size / chunk_size_in_mb) + 1\n",
    "rows_per_chunk = int(len(saved_df) / chunks_count) + 1\n",
    "print(f\"Parquet file size: {file_size:.2f} MB, Total chunks: {chunks_count}, Rows per chunk: {rows_per_chunk:}\")\n",
    "\n",
    "\n",
    "def upload_in_chunks(df, chunk_size, repo_id, dataset_name):\n",
    "    try:\n",
    "        user_input = input(f\"Type yes to upload {parquet_file_name} subset: \")\n",
    "    except EOFError:\n",
    "        print(\"Input was canceled. Exiting without uploading.\")\n",
    "        return\n",
    "\n",
    "    if user_input.lower() != 'yes':\n",
    "        print(\"Exiting without uploading.\")\n",
    "        return\n",
    "\n",
    "\n",
    "    for i in range(0, len(df), chunk_size):\n",
    "        chunk = df.iloc[i:i+chunk_size]\n",
    "        dataset = Dataset.from_pandas(chunk)\n",
    "        split_name = f\"{dataset_name}_chunk_{i//chunk_size}\"\n",
    "        dataset.push_to_hub(repo_id, config_name=dataset_name, split=split_name)\n",
    "        print(f\"Uploaded chunk {i//chunk_size}\")\n",
    "\n",
    "\n",
    "upload_in_chunks(saved_df, rows_per_chunk, repo_id, subset_name)"
   ]
  }
 ],
 "metadata": {
  "kernelspec": {
   "display_name": "Python 3",
   "language": "python",
   "name": "python3"
  },
  "language_info": {
   "codemirror_mode": {
    "name": "ipython",
    "version": 3
   },
   "file_extension": ".py",
   "mimetype": "text/x-python",
   "name": "python",
   "nbconvert_exporter": "python",
   "pygments_lexer": "ipython3",
   "version": "3.11.2"
  }
 },
 "nbformat": 4,
 "nbformat_minor": 5
}
